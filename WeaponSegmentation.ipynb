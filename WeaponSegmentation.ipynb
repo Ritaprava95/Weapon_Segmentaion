{
  "nbformat": 4,
  "nbformat_minor": 0,
  "metadata": {
    "colab": {
      "name": "WeaponSegmentation.ipynb",
      "provenance": [],
      "collapsed_sections": [],
      "authorship_tag": "ABX9TyNi45Ly/qQ6ORuZrECDPzUB",
      "include_colab_link": true
    },
    "kernelspec": {
      "name": "python3",
      "display_name": "Python 3"
    },
    "language_info": {
      "name": "python"
    }
  },
  "cells": [
    {
      "cell_type": "markdown",
      "metadata": {
        "id": "view-in-github",
        "colab_type": "text"
      },
      "source": [
        "<a href=\"https://colab.research.google.com/github/Ritaprava95/Weapon_Segnebtaion/blob/main/WeaponSegmentation.ipynb\" target=\"_parent\"><img src=\"https://colab.research.google.com/assets/colab-badge.svg\" alt=\"Open In Colab\"/></a>"
      ]
    },
    {
      "cell_type": "code",
      "metadata": {
        "colab": {
          "base_uri": "https://localhost:8080/"
        },
        "id": "qhVw0LgYV8Ci",
        "outputId": "3dd193d7-fde8-4610-daa1-74c62329ad05"
      },
      "source": [
        "pip install --upgrade git+https://github.com/divamgupta/image-segmentation-keras"
      ],
      "execution_count": null,
      "outputs": [
        {
          "output_type": "stream",
          "text": [
            "Collecting git+https://github.com/divamgupta/image-segmentation-keras\n",
            "  Cloning https://github.com/divamgupta/image-segmentation-keras to /tmp/pip-req-build-ixnj7u68\n",
            "  Running command git clone -q https://github.com/divamgupta/image-segmentation-keras /tmp/pip-req-build-ixnj7u68\n",
            "Requirement already satisfied, skipping upgrade: h5py<=2.10.0 in /usr/local/lib/python3.7/dist-packages (from keras-segmentation==0.3.0) (2.10.0)\n",
            "Requirement already satisfied, skipping upgrade: Keras>=2.0.0 in /usr/local/lib/python3.7/dist-packages (from keras-segmentation==0.3.0) (2.4.3)\n",
            "Collecting imageio==2.5.0\n",
            "\u001b[?25l  Downloading https://files.pythonhosted.org/packages/af/0a/943c965d372dae0b1f1482677d29030ab834351a61a9a632fd62f27f1523/imageio-2.5.0-py3-none-any.whl (3.3MB)\n",
            "\u001b[K     |████████████████████████████████| 3.3MB 31.5MB/s \n",
            "\u001b[?25hCollecting imgaug>=0.4.0\n",
            "\u001b[?25l  Downloading https://files.pythonhosted.org/packages/66/b1/af3142c4a85cba6da9f4ebb5ff4e21e2616309552caca5e8acefe9840622/imgaug-0.4.0-py2.py3-none-any.whl (948kB)\n",
            "\u001b[K     |████████████████████████████████| 952kB 38.3MB/s \n",
            "\u001b[?25hRequirement already satisfied, skipping upgrade: opencv-python in /usr/local/lib/python3.7/dist-packages (from keras-segmentation==0.3.0) (4.1.2.30)\n",
            "Requirement already satisfied, skipping upgrade: tqdm in /usr/local/lib/python3.7/dist-packages (from keras-segmentation==0.3.0) (4.41.1)\n",
            "Requirement already satisfied, skipping upgrade: numpy>=1.7 in /usr/local/lib/python3.7/dist-packages (from h5py<=2.10.0->keras-segmentation==0.3.0) (1.19.5)\n",
            "Requirement already satisfied, skipping upgrade: six in /usr/local/lib/python3.7/dist-packages (from h5py<=2.10.0->keras-segmentation==0.3.0) (1.15.0)\n",
            "Requirement already satisfied, skipping upgrade: scipy>=0.14 in /usr/local/lib/python3.7/dist-packages (from Keras>=2.0.0->keras-segmentation==0.3.0) (1.4.1)\n",
            "Requirement already satisfied, skipping upgrade: pyyaml in /usr/local/lib/python3.7/dist-packages (from Keras>=2.0.0->keras-segmentation==0.3.0) (3.13)\n",
            "Requirement already satisfied, skipping upgrade: pillow in /usr/local/lib/python3.7/dist-packages (from imageio==2.5.0->keras-segmentation==0.3.0) (7.1.2)\n",
            "Requirement already satisfied, skipping upgrade: scikit-image>=0.14.2 in /usr/local/lib/python3.7/dist-packages (from imgaug>=0.4.0->keras-segmentation==0.3.0) (0.16.2)\n",
            "Requirement already satisfied, skipping upgrade: matplotlib in /usr/local/lib/python3.7/dist-packages (from imgaug>=0.4.0->keras-segmentation==0.3.0) (3.2.2)\n",
            "Requirement already satisfied, skipping upgrade: Shapely in /usr/local/lib/python3.7/dist-packages (from imgaug>=0.4.0->keras-segmentation==0.3.0) (1.7.1)\n",
            "Requirement already satisfied, skipping upgrade: PyWavelets>=0.4.0 in /usr/local/lib/python3.7/dist-packages (from scikit-image>=0.14.2->imgaug>=0.4.0->keras-segmentation==0.3.0) (1.1.1)\n",
            "Requirement already satisfied, skipping upgrade: networkx>=2.0 in /usr/local/lib/python3.7/dist-packages (from scikit-image>=0.14.2->imgaug>=0.4.0->keras-segmentation==0.3.0) (2.5.1)\n",
            "Requirement already satisfied, skipping upgrade: cycler>=0.10 in /usr/local/lib/python3.7/dist-packages (from matplotlib->imgaug>=0.4.0->keras-segmentation==0.3.0) (0.10.0)\n",
            "Requirement already satisfied, skipping upgrade: pyparsing!=2.0.4,!=2.1.2,!=2.1.6,>=2.0.1 in /usr/local/lib/python3.7/dist-packages (from matplotlib->imgaug>=0.4.0->keras-segmentation==0.3.0) (2.4.7)\n",
            "Requirement already satisfied, skipping upgrade: kiwisolver>=1.0.1 in /usr/local/lib/python3.7/dist-packages (from matplotlib->imgaug>=0.4.0->keras-segmentation==0.3.0) (1.3.1)\n",
            "Requirement already satisfied, skipping upgrade: python-dateutil>=2.1 in /usr/local/lib/python3.7/dist-packages (from matplotlib->imgaug>=0.4.0->keras-segmentation==0.3.0) (2.8.1)\n",
            "Requirement already satisfied, skipping upgrade: decorator<5,>=4.3 in /usr/local/lib/python3.7/dist-packages (from networkx>=2.0->scikit-image>=0.14.2->imgaug>=0.4.0->keras-segmentation==0.3.0) (4.4.2)\n",
            "Building wheels for collected packages: keras-segmentation\n",
            "  Building wheel for keras-segmentation (setup.py) ... \u001b[?25l\u001b[?25hdone\n",
            "  Created wheel for keras-segmentation: filename=keras_segmentation-0.3.0-cp37-none-any.whl size=34545 sha256=a0d049ab2cb7beb78495b989f1c5b79b19e85d88b904405f370a40865f57896c\n",
            "  Stored in directory: /tmp/pip-ephem-wheel-cache-izracf1w/wheels/a8/be/2c/1e1f0a75330e3ae33dd34c2ba085929eb7c7ae1d2184f4b7b5\n",
            "Successfully built keras-segmentation\n",
            "\u001b[31mERROR: albumentations 0.1.12 has requirement imgaug<0.2.7,>=0.2.5, but you'll have imgaug 0.4.0 which is incompatible.\u001b[0m\n",
            "Installing collected packages: imageio, imgaug, keras-segmentation\n",
            "  Found existing installation: imageio 2.4.1\n",
            "    Uninstalling imageio-2.4.1:\n",
            "      Successfully uninstalled imageio-2.4.1\n",
            "  Found existing installation: imgaug 0.2.9\n",
            "    Uninstalling imgaug-0.2.9:\n",
            "      Successfully uninstalled imgaug-0.2.9\n",
            "Successfully installed imageio-2.5.0 imgaug-0.4.0 keras-segmentation-0.3.0\n"
          ],
          "name": "stdout"
        }
      ]
    },
    {
      "cell_type": "code",
      "metadata": {
        "colab": {
          "base_uri": "https://localhost:8080/"
        },
        "id": "A_C0srT7WNXR",
        "outputId": "ac98ce47-d0fe-4cd6-ce0b-518674b02a15"
      },
      "source": [
        "from keras_segmentation.pretrained import pspnet_50_ADE_20K , pspnet_101_cityscapes, pspnet_101_voc12\n",
        "\n",
        "model = pspnet_50_ADE_20K() # load the pretrained model trained on ADE20k dataset\n",
        "\n",
        "model = pspnet_101_cityscapes() # load the pretrained model trained on Cityscapes dataset\n",
        "\n",
        "model = pspnet_101_voc12() # load the pretrained model trained on Pascal VOC 2012 dataset\n",
        "\n",
        "\n",
        "\n"
      ],
      "execution_count": null,
      "outputs": [
        {
          "output_type": "stream",
          "text": [
            "Downloading data from https://www.dropbox.com/s/0uxn14y26jcui4v/pspnet50_ade20k.h5?dl=1\n",
            "187842560/187839752 [==============================] - 2s 0us/step\n",
            "Downloading data from https://www.dropbox.com/s/c17g94n946tpalb/pspnet101_cityscapes.h5?dl=1\n",
            "264151040/264145248 [==============================] - 2s 0us/step\n",
            "Downloading data from https://www.dropbox.com/s/uvqj2cjo4b9c5wg/pspnet101_voc2012.h5?dl=1\n",
            "264151040/264149344 [==============================] - 3s 0us/step\n"
          ],
          "name": "stdout"
        }
      ]
    },
    {
      "cell_type": "code",
      "metadata": {
        "colab": {
          "base_uri": "https://localhost:8080/"
        },
        "id": "Xcgi9GqyDn-1",
        "outputId": "a7ad04e2-fbaa-4231-b024-a9ee5cc3265e"
      },
      "source": [
        "from google.colab import drive\n",
        "drive.mount(\"/content/drive\")"
      ],
      "execution_count": null,
      "outputs": [
        {
          "output_type": "stream",
          "text": [
            "Mounted at /content/drive\n"
          ],
          "name": "stdout"
        }
      ]
    },
    {
      "cell_type": "code",
      "metadata": {
        "colab": {
          "base_uri": "https://localhost:8080/"
        },
        "id": "iECpQU-yEXvo",
        "outputId": "4badcc5f-00ad-4800-e259-aaf8b15e1ade"
      },
      "source": [
        "!ls /content/drive/MyDrive/weapons_box_sem_seg"
      ],
      "execution_count": null,
      "outputs": [
        {
          "output_type": "stream",
          "text": [
            "images\tmasks  test  val_images  val_masks\n"
          ],
          "name": "stdout"
        }
      ]
    },
    {
      "cell_type": "code",
      "metadata": {
        "id": "B7rdQwWlXKHE"
      },
      "source": [
        "out = model.predict_segmentation(\n",
        "    inp=\"/content/drive/MyDrive/weapons_box_sem_seg/test/00000334.png\",\n",
        "    out_fname=\"out.png\"\n",
        ")"
      ],
      "execution_count": null,
      "outputs": []
    },
    {
      "cell_type": "code",
      "metadata": {
        "id": "vUmD1Pe4OxOE"
      },
      "source": [
        "import os\n",
        "import cv2"
      ],
      "execution_count": null,
      "outputs": []
    },
    {
      "cell_type": "code",
      "metadata": {
        "id": "SYjpdRq-IokV"
      },
      "source": [
        "for e in os.listdir(\"/content/drive/MyDrive/weapons_box_sem_seg/images/\"):\n",
        "  if e not in os.listdir(\"/content/drive/MyDrive/weapons_box_sem_seg/masks/\"):\n",
        "    os.rename(\"/content/drive/MyDrive/weapons_box_sem_seg/images/\"+e, \"/content/drive/MyDrive/weapons_box_sem_seg/test/\"+e)\n"
      ],
      "execution_count": null,
      "outputs": []
    },
    {
      "cell_type": "code",
      "metadata": {
        "colab": {
          "base_uri": "https://localhost:8080/"
        },
        "id": "X0PIAxGAKBM9",
        "outputId": "63e43ddd-b386-4b8b-f948-ce24e0dcde27"
      },
      "source": [
        "!ls /content/drive/MyDrive/weapons_box_sem_seg/test"
      ],
      "execution_count": null,
      "outputs": [
        {
          "output_type": "stream",
          "text": [
            "00000150.png  00000334.png  00000555.png  00000958.png\t00000964.png\n",
            "00000227.png  00000384.png  00000804.png  00000959.png\n"
          ],
          "name": "stdout"
        }
      ]
    },
    {
      "cell_type": "code",
      "metadata": {
        "id": "0DPug-wrObh8"
      },
      "source": [
        "os.mkdir('/content/drive/MyDrive/weapons_box_sem_seg/annotations/')\n",
        "os.mkdir('/content/drive/MyDrive/weapons_box_sem_seg/val_annotations/')"
      ],
      "execution_count": null,
      "outputs": []
    },
    {
      "cell_type": "code",
      "metadata": {
        "colab": {
          "base_uri": "https://localhost:8080/"
        },
        "id": "t9wNKVDwPCib",
        "outputId": "aad30c9d-5723-4647-ad5a-9679c49d336a"
      },
      "source": [
        "!ls /content/drive/MyDrive/weapons_box_sem_seg"
      ],
      "execution_count": null,
      "outputs": [
        {
          "output_type": "stream",
          "text": [
            "annotations  images  masks  test  val_annotations  val_images  val_masks\n"
          ],
          "name": "stdout"
        }
      ]
    },
    {
      "cell_type": "code",
      "metadata": {
        "id": "kx1mZ--iNzSs"
      },
      "source": [
        "#os.mkdir(\"/content/drive/MyDrive/weapons_box_sem_seg/val_images\")\n",
        "#os.mkdir(\"/content/drive/MyDrive/weapons_box_sem_seg/val_masks\")\n",
        "import random\n",
        "for i in range(100):\n",
        "  f = random.choice(os.listdir(\"/content/drive/MyDrive/weapons_box_sem_seg/images/\"))\n",
        "  os.rename(\"/content/drive/MyDrive/weapons_box_sem_seg/images/\"+f, \"/content/drive/MyDrive/weapons_box_sem_seg/val_images/\"+f)\n",
        "  os.rename(\"/content/drive/MyDrive/weapons_box_sem_seg/masks/\"+f, \"/content/drive/MyDrive/weapons_box_sem_seg/val_masks/\"+f)"
      ],
      "execution_count": null,
      "outputs": []
    },
    {
      "cell_type": "code",
      "metadata": {
        "colab": {
          "base_uri": "https://localhost:8080/",
          "height": 269
        },
        "id": "SVIP3_n39GYZ",
        "outputId": "6021fae4-7ea4-470c-839e-ceba46516751"
      },
      "source": [
        "import cv2\n",
        "import numpy as np\n",
        "import matplotlib.pyplot as plt\n",
        "image = cv2.imread(\"/content/drive/MyDrive/weapons_box_sem_seg/masks/00000003.png\")\n",
        "raw = image.copy()\n",
        "image[np.where((image==[0,0,255]).all(axis=2))] = [1,1,1]\n",
        "image[np.where((image==[0,255,0]).all(axis=2))] = [2,2,2]\n",
        "plt.imshow( image)\n",
        "plt.show()\n",
        "\n"
      ],
      "execution_count": null,
      "outputs": [
        {
          "output_type": "display_data",
          "data": {
            "image/png": "[encoded data removed]",
            "text/plain": [
              "<Figure size 432x288 with 1 Axes>"
            ]
          },
          "metadata": {
            "tags": [],
            "needs_background": "light"
          }
        }
      ]
    },
    {
      "cell_type": "code",
      "metadata": {
        "id": "NUYr_BnWPgNz"
      },
      "source": [
        "for f in os.listdir(\"/content/drive/MyDrive/weapons_box_sem_seg/images/\"):\n",
        "  #print(f)\n",
        "  img = cv2.imread(\"/content/drive/MyDrive/weapons_box_sem_seg/masks/\"+f)\n",
        "  # print(len(img))\n",
        "  img[np.where((img==[0,255,0]).all(axis=2))] = [1,1,1]\n",
        "  img[np.where((img==[0,0,255]).all(axis=2))] = [2,2,2]\n",
        "  cv2.imwrite( \"/content/drive/MyDrive/weapons_box_sem_seg/annotations/\"+f ,img )"
      ],
      "execution_count": null,
      "outputs": []
    },
    {
      "cell_type": "code",
      "metadata": {
        "id": "L-aao5Ojgx5p"
      },
      "source": [
        "for f in os.listdir(\"/content/drive/MyDrive/weapons_box_sem_seg/val_images/\"):\n",
        "  #print(f)\n",
        "  img = cv2.imread(\"/content/drive/MyDrive/weapons_box_sem_seg/val_masks/\"+f)\n",
        "  # print(len(img))\n",
        "  img[np.where((img==[0,255,0]).all(axis=2))] = [1,1,1]\n",
        "  img[np.where((img==[0,0,255]).all(axis=2))] = [2,2,2]\n",
        "  cv2.imwrite( \"/content/drive/MyDrive/weapons_box_sem_seg/val_annotations/\"+f ,img )"
      ],
      "execution_count": null,
      "outputs": []
    },
    {
      "cell_type": "code",
      "metadata": {
        "colab": {
          "base_uri": "https://localhost:8080/",
          "height": 454
        },
        "id": "u6KQS6NOe8R7",
        "outputId": "71c3c20d-344a-4bcc-85e4-f70085a91f7c"
      },
      "source": [
        "from keras_segmentation.models.unet import vgg_unet\n",
        "model = vgg_unet(n_classes=2 ,  input_height=416, input_width=608  )\n",
        "\n",
        "model.train(\n",
        "    train_images =  \"/content/drive/MyDrive/weapons_box_sem_seg/images/\",\n",
        "    train_annotations = \"/content/drive/MyDrive/weapons_box_sem_seg/masks/\",\n",
        "    checkpoints_path = \"/tmp/vgg_unet_1\" , epochs=5\n",
        ")\n",
        "\n",
        "out = model.predict_segmentation(\n",
        "    inp=\"/content/drive/MyDrive/weapons_box_sem_seg/test/00000334.png\",\n",
        "    out_fname=\"vgg_unet_out.png\"\n",
        ")\n",
        "\n",
        "import matplotlib.pyplot as plt\n",
        "plt.imshow(out)\n",
        "\n",
        "# evaluating the model \n",
        "print(model.evaluate_segmentation( inp_images_dir=\"/content/drive/MyDrive/weapons_box_sem_seg/val_images/\"  , annotations_dir=\"/content/drive/MyDrive/weapons_box_sem_seg/val_masks/\" ) )\n"
      ],
      "execution_count": null,
      "outputs": [
        {
          "output_type": "stream",
          "text": [
            "Downloading data from https://github.com/fchollet/deep-learning-models/releases/download/v0.1/vgg16_weights_tf_dim_ordering_tf_kernels_notop.h5\n",
            "58892288/58889256 [==============================] - 0s 0us/step\n",
            "Verifying training dataset\n"
          ],
          "name": "stdout"
        },
        {
          "output_type": "stream",
          "text": [
            " 40%|████      | 300/743 [04:16<06:17,  1.17it/s]"
          ],
          "name": "stderr"
        },
        {
          "output_type": "error",
          "ename": "KeyboardInterrupt",
          "evalue": "ignored",
          "traceback": [
            "\u001b[0;31m---------------------------------------------------------------------------\u001b[0m",
            "\u001b[0;31mKeyboardInterrupt\u001b[0m                         Traceback (most recent call last)",
            "\u001b[0;32m<ipython-input-22-fcbbacf8b695>\u001b[0m in \u001b[0;36m<module>\u001b[0;34m()\u001b[0m\n\u001b[1;32m      5\u001b[0m     \u001b[0mtrain_images\u001b[0m \u001b[0;34m=\u001b[0m  \u001b[0;34m\"/content/drive/MyDrive/weapons_box_sem_seg/images/\"\u001b[0m\u001b[0;34m,\u001b[0m\u001b[0;34m\u001b[0m\u001b[0;34m\u001b[0m\u001b[0m\n\u001b[1;32m      6\u001b[0m     \u001b[0mtrain_annotations\u001b[0m \u001b[0;34m=\u001b[0m \u001b[0;34m\"/content/drive/MyDrive/weapons_box_sem_seg/masks/\"\u001b[0m\u001b[0;34m,\u001b[0m\u001b[0;34m\u001b[0m\u001b[0;34m\u001b[0m\u001b[0m\n\u001b[0;32m----> 7\u001b[0;31m     \u001b[0mcheckpoints_path\u001b[0m \u001b[0;34m=\u001b[0m \u001b[0;34m\"/tmp/vgg_unet_1\"\u001b[0m \u001b[0;34m,\u001b[0m \u001b[0mepochs\u001b[0m\u001b[0;34m=\u001b[0m\u001b[0;36m5\u001b[0m\u001b[0;34m\u001b[0m\u001b[0;34m\u001b[0m\u001b[0m\n\u001b[0m\u001b[1;32m      8\u001b[0m )\n\u001b[1;32m      9\u001b[0m \u001b[0;34m\u001b[0m\u001b[0m\n",
            "\u001b[0;32m/usr/local/lib/python3.7/dist-packages/keras_segmentation/train.py\u001b[0m in \u001b[0;36mtrain\u001b[0;34m(model, train_images, train_annotations, input_height, input_width, n_classes, verify_dataset, checkpoints_path, epochs, batch_size, validate, val_images, val_annotations, val_batch_size, auto_resume_checkpoint, load_weights, steps_per_epoch, val_steps_per_epoch, gen_use_multiprocessing, ignore_zero_class, optimizer_name, do_augment, augmentation_name, callbacks, custom_augmentation, other_inputs_paths, preprocessing, read_image_type)\u001b[0m\n\u001b[1;32m    157\u001b[0m         verified = verify_segmentation_dataset(train_images,\n\u001b[1;32m    158\u001b[0m                                                \u001b[0mtrain_annotations\u001b[0m\u001b[0;34m,\u001b[0m\u001b[0;34m\u001b[0m\u001b[0;34m\u001b[0m\u001b[0m\n\u001b[0;32m--> 159\u001b[0;31m                                                n_classes)\n\u001b[0m\u001b[1;32m    160\u001b[0m         \u001b[0;32massert\u001b[0m \u001b[0mverified\u001b[0m\u001b[0;34m\u001b[0m\u001b[0;34m\u001b[0m\u001b[0m\n\u001b[1;32m    161\u001b[0m         \u001b[0;32mif\u001b[0m \u001b[0mvalidate\u001b[0m\u001b[0;34m:\u001b[0m\u001b[0;34m\u001b[0m\u001b[0;34m\u001b[0m\u001b[0m\n",
            "\u001b[0;32m/usr/local/lib/python3.7/dist-packages/keras_segmentation/data_utils/data_loader.py\u001b[0m in \u001b[0;36mverify_segmentation_dataset\u001b[0;34m(images_path, segs_path, n_classes, show_all_errors)\u001b[0m\n\u001b[1;32m    214\u001b[0m         \u001b[0;32mfor\u001b[0m \u001b[0mim_fn\u001b[0m\u001b[0;34m,\u001b[0m \u001b[0mseg_fn\u001b[0m \u001b[0;32min\u001b[0m \u001b[0mtqdm\u001b[0m\u001b[0;34m(\u001b[0m\u001b[0mimg_seg_pairs\u001b[0m\u001b[0;34m)\u001b[0m\u001b[0;34m:\u001b[0m\u001b[0;34m\u001b[0m\u001b[0;34m\u001b[0m\u001b[0m\n\u001b[1;32m    215\u001b[0m             \u001b[0mimg\u001b[0m \u001b[0;34m=\u001b[0m \u001b[0mcv2\u001b[0m\u001b[0;34m.\u001b[0m\u001b[0mimread\u001b[0m\u001b[0;34m(\u001b[0m\u001b[0mim_fn\u001b[0m\u001b[0;34m)\u001b[0m\u001b[0;34m\u001b[0m\u001b[0;34m\u001b[0m\u001b[0m\n\u001b[0;32m--> 216\u001b[0;31m             \u001b[0mseg\u001b[0m \u001b[0;34m=\u001b[0m \u001b[0mcv2\u001b[0m\u001b[0;34m.\u001b[0m\u001b[0mimread\u001b[0m\u001b[0;34m(\u001b[0m\u001b[0mseg_fn\u001b[0m\u001b[0;34m)\u001b[0m\u001b[0;34m\u001b[0m\u001b[0;34m\u001b[0m\u001b[0m\n\u001b[0m\u001b[1;32m    217\u001b[0m             \u001b[0;31m# Check dimensions match\u001b[0m\u001b[0;34m\u001b[0m\u001b[0;34m\u001b[0m\u001b[0;34m\u001b[0m\u001b[0m\n\u001b[1;32m    218\u001b[0m             \u001b[0;32mif\u001b[0m \u001b[0;32mnot\u001b[0m \u001b[0mimg\u001b[0m\u001b[0;34m.\u001b[0m\u001b[0mshape\u001b[0m \u001b[0;34m==\u001b[0m \u001b[0mseg\u001b[0m\u001b[0;34m.\u001b[0m\u001b[0mshape\u001b[0m\u001b[0;34m:\u001b[0m\u001b[0;34m\u001b[0m\u001b[0;34m\u001b[0m\u001b[0m\n",
            "\u001b[0;31mKeyboardInterrupt\u001b[0m: "
          ]
        }
      ]
    },
    {
      "cell_type": "code",
      "metadata": {
        "colab": {
          "base_uri": "https://localhost:8080/"
        },
        "id": "yWolOWj4firb",
        "outputId": "090e5fae-35d3-4db6-e863-e0bfee7b81c8"
      },
      "source": [
        "#transfer learning \n",
        "from keras_segmentation.models.model_utils import transfer_weights\n",
        "from keras_segmentation.pretrained import pspnet_50_ADE_20K , pspnet_101_cityscapes, pspnet_101_voc12 \n",
        "from keras_segmentation.models.pspnet import pspnet_50, pspnet_101\n",
        "\n",
        "pretrained_model = pspnet_50_ADE_20K()\n",
        "\n",
        "new_model = pspnet_50( n_classes=3)\n",
        "\n",
        "transfer_weights( pretrained_model , new_model  ) # transfer weights from pre-trained model to your model\n",
        "\n",
        "new_model.train(\n",
        "    train_images =  \"/content/drive/MyDrive/weapons_box_sem_seg/images/\",\n",
        "    train_annotations = \"/content/drive/MyDrive/weapons_box_sem_seg/annotations/\",\n",
        "    checkpoints_path = \"/content/drive/MyDrive/weapons_box_sem_se/new_model\" , epochs=10\n",
        ")"
      ],
      "execution_count": null,
      "outputs": [
        {
          "output_type": "stream",
          "text": [
            "112it [00:00, 1118.65it/s]"
          ],
          "name": "stderr"
        },
        {
          "output_type": "stream",
          "text": [
            "Copying weights \n"
          ],
          "name": "stdout"
        },
        {
          "output_type": "stream",
          "text": [
            "225it [00:00, 731.45it/s]\n"
          ],
          "name": "stderr"
        },
        {
          "output_type": "stream",
          "text": [
            "Copied weights of 120 layers and skipped 1 layers\n",
            "Verifying training dataset\n"
          ],
          "name": "stdout"
        },
        {
          "output_type": "stream",
          "text": [
            "100%|██████████| 743/743 [10:12<00:00,  1.21it/s]\n"
          ],
          "name": "stderr"
        },
        {
          "output_type": "stream",
          "text": [
            "Dataset verified! \n",
            "Epoch 1/10\n",
            "512/512 [==============================] - 324s 547ms/step - loss: 0.3398 - accuracy: 0.9084\n",
            "\n",
            "Epoch 00001: saving model to /tmp/vgg_unet_1.00001\n",
            "Epoch 2/10\n",
            "512/512 [==============================] - 281s 549ms/step - loss: 0.0864 - accuracy: 0.9700\n",
            "\n",
            "Epoch 00002: saving model to /tmp/vgg_unet_1.00002\n",
            "Epoch 3/10\n",
            "512/512 [==============================] - 281s 549ms/step - loss: 0.0458 - accuracy: 0.9831\n",
            "\n",
            "Epoch 00003: saving model to /tmp/vgg_unet_1.00003\n",
            "Epoch 4/10\n",
            "512/512 [==============================] - 281s 548ms/step - loss: 0.0261 - accuracy: 0.9902\n",
            "\n",
            "Epoch 00004: saving model to /tmp/vgg_unet_1.00004\n",
            "Epoch 5/10\n",
            "512/512 [==============================] - 280s 547ms/step - loss: 0.0301 - accuracy: 0.9891\n",
            "\n",
            "Epoch 00005: saving model to /tmp/vgg_unet_1.00005\n",
            "Epoch 6/10\n",
            "512/512 [==============================] - 281s 548ms/step - loss: 0.0242 - accuracy: 0.9910\n",
            "\n",
            "Epoch 00006: saving model to /tmp/vgg_unet_1.00006\n",
            "Epoch 7/10\n",
            "512/512 [==============================] - 281s 548ms/step - loss: 0.0312 - accuracy: 0.9888\n",
            "\n",
            "Epoch 00007: saving model to /tmp/vgg_unet_1.00007\n",
            "Epoch 8/10\n",
            "512/512 [==============================] - 281s 548ms/step - loss: 0.0305 - accuracy: 0.9891\n",
            "\n",
            "Epoch 00008: saving model to /tmp/vgg_unet_1.00008\n",
            "Epoch 9/10\n",
            "512/512 [==============================] - 281s 548ms/step - loss: 0.0299 - accuracy: 0.9894\n",
            "\n",
            "Epoch 00009: saving model to /tmp/vgg_unet_1.00009\n",
            "Epoch 10/10\n",
            "512/512 [==============================] - 281s 549ms/step - loss: 0.0108 - accuracy: 0.9958\n",
            "\n",
            "Epoch 00010: saving model to /tmp/vgg_unet_1.00010\n"
          ],
          "name": "stdout"
        }
      ]
    },
    {
      "cell_type": "code",
      "metadata": {
        "colab": {
          "base_uri": "https://localhost:8080/"
        },
        "id": "QP_PeOR7FuR1",
        "outputId": "7249b90d-b0dd-4227-f2b9-1a90c86a3185"
      },
      "source": [
        "print(new_model.evaluate_segmentation( inp_images_dir=\"/content/drive/MyDrive/weapons_box_sem_seg/val_images/\"  , annotations_dir=\"/content/drive/MyDrive/weapons_box_sem_seg/val_masks/\" ) )\n"
      ],
      "execution_count": null,
      "outputs": [
        {
          "output_type": "stream",
          "text": [
            "\n",
            "0it [00:00, ?it/s]\u001b[A\n",
            "1it [00:01,  1.93s/it]\u001b[A\n",
            "2it [00:02,  1.66s/it]\u001b[A\n",
            "3it [00:03,  1.46s/it]\u001b[A\n",
            "4it [00:05,  1.33s/it]\u001b[A\n",
            "5it [00:06,  1.24s/it]\u001b[A\n",
            "6it [00:07,  1.22s/it]\u001b[A\n",
            "7it [00:08,  1.17s/it]\u001b[A\n",
            "8it [00:09,  1.13s/it]\u001b[A\n",
            "9it [00:10,  1.13s/it]\u001b[A\n",
            "10it [00:11,  1.10s/it]\u001b[A\n",
            "11it [00:12,  1.08s/it]\u001b[A\n",
            "12it [00:13,  1.04s/it]\u001b[A\n",
            "13it [00:14,  1.09s/it]\u001b[A\n",
            "14it [00:15,  1.07s/it]\u001b[A\n",
            "15it [00:16,  1.05s/it]\u001b[A\n",
            "16it [00:17,  1.00s/it]\u001b[A\n",
            "17it [00:18,  1.02it/s]\u001b[A\n",
            "18it [00:19,  1.01s/it]\u001b[A\n",
            "19it [00:20,  1.00it/s]\u001b[A\n",
            "20it [00:21,  1.09s/it]\u001b[A\n",
            "21it [00:22,  1.08s/it]\u001b[A\n",
            "22it [00:24,  1.12s/it]\u001b[A\n",
            "23it [00:24,  1.04s/it]\u001b[A\n",
            "24it [00:26,  1.07s/it]\u001b[A\n",
            "25it [00:27,  1.03s/it]\u001b[A\n",
            "26it [00:27,  1.02it/s]\u001b[A\n",
            "27it [00:28,  1.02it/s]\u001b[A\n",
            "28it [00:30,  1.04s/it]\u001b[A\n",
            "29it [00:31,  1.07s/it]\u001b[A\n",
            "30it [00:32,  1.06s/it]\u001b[A\n",
            "31it [00:33,  1.04s/it]\u001b[A\n",
            "32it [00:34,  1.04s/it]\u001b[A\n",
            "33it [00:35,  1.02s/it]\u001b[A\n",
            "34it [00:36,  1.01it/s]\u001b[A\n",
            "35it [00:37,  1.00it/s]\u001b[A\n",
            "36it [00:38,  1.00s/it]\u001b[A\n",
            "37it [00:39,  1.02s/it]\u001b[A\n",
            "38it [00:40,  1.02s/it]\u001b[A\n",
            "39it [00:41,  1.03s/it]\u001b[A\n",
            "40it [00:42,  1.03s/it]\u001b[A\n",
            "41it [00:43,  1.04s/it]\u001b[A\n",
            "42it [00:44,  1.01s/it]\u001b[A\n",
            "43it [00:45,  1.03s/it]\u001b[A\n",
            "44it [00:46,  1.02it/s]\u001b[A\n",
            "45it [00:47,  1.03it/s]\u001b[A\n",
            "46it [00:48,  1.06it/s]\u001b[A\n",
            "47it [00:49,  1.05it/s]\u001b[A\n",
            "48it [00:50,  1.00s/it]\u001b[A\n",
            "49it [00:51,  1.01it/s]\u001b[A\n",
            "50it [00:52,  1.02it/s]\u001b[A\n",
            "51it [00:53,  1.02s/it]\u001b[A\n",
            "52it [00:54,  1.02s/it]\u001b[A\n",
            "53it [00:55,  1.02s/it]\u001b[A\n",
            "54it [00:56,  1.07s/it]\u001b[A\n",
            "55it [00:57,  1.06s/it]\u001b[A\n",
            "56it [00:58,  1.05s/it]\u001b[A\n",
            "57it [00:59,  1.04s/it]\u001b[A\n",
            "58it [01:00,  1.05s/it]\u001b[A\n",
            "59it [01:01,  1.09s/it]\u001b[A\n",
            "60it [01:02,  1.05s/it]\u001b[A\n",
            "61it [01:03,  1.01s/it]\u001b[A\n",
            "62it [01:04,  1.01s/it]\u001b[A\n",
            "63it [01:05,  1.04it/s]\u001b[A\n",
            "64it [01:06,  1.01it/s]\u001b[A\n",
            "65it [01:07,  1.01it/s]\u001b[A\n",
            "66it [01:08,  1.04it/s]\u001b[A\n",
            "67it [01:09,  1.01it/s]\u001b[A\n",
            "68it [01:10,  1.01it/s]\u001b[A\n",
            "69it [01:11,  1.01s/it]\u001b[A\n",
            "70it [01:12,  1.01it/s]\u001b[A\n",
            "71it [01:13,  1.00s/it]\u001b[A\n",
            "72it [01:14,  1.05s/it]\u001b[A\n",
            "73it [01:15,  1.05s/it]\u001b[A\n",
            "74it [01:16,  1.01s/it]\u001b[A\n",
            "75it [01:17,  1.05s/it]\u001b[A\n",
            "76it [01:18,  1.05s/it]\u001b[A\n",
            "77it [01:19,  1.03s/it]\u001b[A\n",
            "78it [01:20,  1.05s/it]\u001b[A\n",
            "79it [01:21,  1.02s/it]\u001b[A\n",
            "80it [01:22,  1.03s/it]\u001b[A\n",
            "81it [01:23,  1.02s/it]\u001b[A\n",
            "82it [01:25,  1.03s/it]\u001b[A\n",
            "83it [01:26,  1.03s/it]\u001b[A\n",
            "84it [01:27,  1.03s/it]\u001b[A\n",
            "85it [01:28,  1.02s/it]\u001b[A\n",
            "86it [01:29,  1.05s/it]\u001b[A\n",
            "87it [01:30,  1.06s/it]\u001b[A\n",
            "88it [01:31,  1.02s/it]\u001b[A\n",
            "89it [01:32,  1.07s/it]\u001b[A\n",
            "90it [01:33,  1.07s/it]\u001b[A\n",
            "91it [01:34,  1.03s/it]\u001b[A\n",
            "92it [01:35,  1.01s/it]\u001b[A\n",
            "93it [01:36,  1.01it/s]\u001b[A\n",
            "94it [01:37,  1.02it/s]\u001b[A\n",
            "95it [01:38,  1.05it/s]\u001b[A\n",
            "96it [01:39,  1.06it/s]\u001b[A\n",
            "97it [01:40,  1.04it/s]\u001b[A\n",
            "98it [01:41,  1.03it/s]\u001b[A\n",
            "99it [01:42,  1.01it/s]\u001b[A\n",
            "100it [01:43,  1.03s/it]"
          ],
          "name": "stderr"
        },
        {
          "output_type": "stream",
          "text": [
            "{'frequency_weighted_IU': 1.0, 'mean_IU': 0.5, 'class_wise_IU': array([1., 0.])}\n"
          ],
          "name": "stdout"
        },
        {
          "output_type": "stream",
          "text": [
            "\n"
          ],
          "name": "stderr"
        }
      ]
    },
    {
      "cell_type": "code",
      "metadata": {
        "id": "G-KBgYOyZUT0"
      },
      "source": [
        "out = new_model.predict_segmentation(\n",
        "    inp=\"/content/drive/MyDrive/weapons_box_sem_seg/test/00000227.png\",\n",
        "    out_fname=\"new_model_out.png\"\n",
        ")\n"
      ],
      "execution_count": null,
      "outputs": []
    },
    {
      "cell_type": "code",
      "metadata": {
        "id": "bgHSE-MF5EhP"
      },
      "source": [
        "os.mkdir(\"/content/drive/MyDrive/weapons_box_sem_seg/test_mask/\")"
      ],
      "execution_count": null,
      "outputs": []
    },
    {
      "cell_type": "code",
      "metadata": {
        "id": "XGw3AKBn56Pm"
      },
      "source": [
        "for f in os.listdir(\"/content/drive/MyDrive/weapons_box_sem_seg/test/\"):\n",
        "  out = new_model.predict_segmentation(\n",
        "    inp=\"/content/drive/MyDrive/weapons_box_sem_seg/test/\"+f,\n",
        "    out_fname=\"/content/drive/MyDrive/weapons_box_sem_seg/test_mask/\"+f\n",
        "  )\n",
        "  res = cv2.imread(\"/content/drive/MyDrive/weapons_box_sem_seg/test_mask/\"+f)\n",
        "  res[np.where((res==[197, 215,  20]).all(axis=2))] = [0,0,0]\n",
        "  res[np.where((res==[155, 244, 183]).all(axis=2))] = [0,255,0]\n",
        "  res[np.where((res==[132, 248, 207]).all(axis=2))] = [0,0,255]\n",
        "  cv2.imwrite(\"/content/drive/MyDrive/weapons_box_sem_seg/test_mask/\"+f, res)\n"
      ],
      "execution_count": null,
      "outputs": []
    },
    {
      "cell_type": "code",
      "metadata": {
        "colab": {
          "base_uri": "https://localhost:8080/"
        },
        "id": "lPKTCahpH3i6",
        "outputId": "4cb46251-98d6-456f-b320-143783083fb3"
      },
      "source": [
        "img = cv2.imread(\"/content/drive/MyDrive/weapons_box_sem_seg/test_mask/00000227.png\")\n",
        "print(img[np.where((img!=[0, 0, 0]).all(axis=2))])"
      ],
      "execution_count": null,
      "outputs": [
        {
          "output_type": "stream",
          "text": [
            "[[132 248 207]\n",
            " [132 248 207]\n",
            " [132 248 207]\n",
            " ...\n",
            " [132 248 207]\n",
            " [132 248 207]\n",
            " [132 248 207]]\n"
          ],
          "name": "stdout"
        }
      ]
    }
  ]
}